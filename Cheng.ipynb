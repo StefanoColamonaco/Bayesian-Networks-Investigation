{
 "cells": [
  {
   "cell_type": "code",
   "execution_count": 1,
   "metadata": {},
   "outputs": [],
   "source": [
    "import pgmpy as pg\n",
    "from pgmpy.readwrite import BIFReader\n",
    "import itertools\n",
    "import networkx as nx"
   ]
  },
  {
   "cell_type": "code",
   "execution_count": 10,
   "metadata": {},
   "outputs": [
    {
     "name": "stdout",
     "output_type": "stream",
     "text": [
      "{'BURGLARY': array([[0.001],\n",
      "       [0.999]]), 'EARTHQUAKE': array([[0.002],\n",
      "       [0.998]]), 'ALARM': array([[0.95 , 0.94 , 0.29 , 0.001],\n",
      "       [0.05 , 0.06 , 0.71 , 0.999]]), 'JOHNCALLS': array([[0.9 , 0.05],\n",
      "       [0.1 , 0.95]]), 'MARYCALLS': array([[0.7 , 0.01],\n",
      "       [0.3 , 0.99]])}\n"
     ]
    }
   ],
   "source": [
    "data = BIFReader(\"./data/burglar.bif\")"
   ]
  },
  {
   "cell_type": "code",
   "execution_count": 12,
   "metadata": {},
   "outputs": [],
   "source": [
    "def I(xi, xj):\n",
    "    print(xi, xj)\n",
    "    return 0"
   ]
  },
  {
   "cell_type": "code",
   "execution_count": 13,
   "metadata": {},
   "outputs": [
    {
     "name": "stdout",
     "output_type": "stream",
     "text": [
      "[[0.001]\n",
      " [0.999]] [[0.002]\n",
      " [0.998]]\n",
      "[[0.001]\n",
      " [0.999]] [[0.95  0.94  0.29  0.001]\n",
      " [0.05  0.06  0.71  0.999]]\n",
      "[[0.001]\n",
      " [0.999]] [[0.9  0.05]\n",
      " [0.1  0.95]]\n",
      "[[0.001]\n",
      " [0.999]] [[0.7  0.01]\n",
      " [0.3  0.99]]\n",
      "[[0.002]\n",
      " [0.998]] [[0.95  0.94  0.29  0.001]\n",
      " [0.05  0.06  0.71  0.999]]\n",
      "[[0.002]\n",
      " [0.998]] [[0.9  0.05]\n",
      " [0.1  0.95]]\n",
      "[[0.002]\n",
      " [0.998]] [[0.7  0.01]\n",
      " [0.3  0.99]]\n",
      "[[0.95  0.94  0.29  0.001]\n",
      " [0.05  0.06  0.71  0.999]] [[0.9  0.05]\n",
      " [0.1  0.95]]\n",
      "[[0.95  0.94  0.29  0.001]\n",
      " [0.05  0.06  0.71  0.999]] [[0.7  0.01]\n",
      " [0.3  0.99]]\n",
      "[[0.9  0.05]\n",
      " [0.1  0.95]] [[0.7  0.01]\n",
      " [0.3  0.99]]\n"
     ]
    }
   ],
   "source": [
    "Z = data.get_values().keys()\n",
    "probabilities = data.get_values()\n",
    "S = {}\n",
    "R = {}\n",
    "G = nx.Graph()\n",
    "G.add_nodes_from(Z)\n",
    "\n",
    "for a,b in itertools.combinations(G.nodes, 2):\n",
    "    mutual = I(probabilities[a], probabilities[b])"
   ]
  }
 ],
 "metadata": {
  "kernelspec": {
   "display_name": "Python 3.9.7 64-bit",
   "language": "python",
   "name": "python3"
  },
  "language_info": {
   "codemirror_mode": {
    "name": "ipython",
    "version": 3
   },
   "file_extension": ".py",
   "mimetype": "text/x-python",
   "name": "python",
   "nbconvert_exporter": "python",
   "pygments_lexer": "ipython3",
   "version": "3.9.7"
  },
  "orig_nbformat": 4,
  "vscode": {
   "interpreter": {
    "hash": "916dbcbb3f70747c44a77c7bcd40155683ae19c65e1c03b4aa3499c5328201f1"
   }
  }
 },
 "nbformat": 4,
 "nbformat_minor": 2
}
