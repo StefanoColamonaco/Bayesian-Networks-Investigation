{
 "cells": [
  {
   "cell_type": "code",
   "execution_count": 35,
   "metadata": {},
   "outputs": [],
   "source": [
    "import pgmpy as pg\n",
    "from pgmpy.readwrite import BIFReader\n",
    "from pgmpy.base import UndirectedGraph\n",
    "import itertools\n",
    "import networkx as nx"
   ]
  },
  {
   "cell_type": "code",
   "execution_count": 10,
   "metadata": {},
   "outputs": [],
   "source": [
    "data = BIFReader(\"./data/alarm.bif\")"
   ]
  },
  {
   "cell_type": "code",
   "execution_count": 101,
   "metadata": {},
   "outputs": [],
   "source": [
    "# Inizializing variables\n",
    "\n",
    "Z = data.get_values().keys()\n",
    "pi = data.get_parents()\n",
    "\n",
    "G1 = UndirectedGraph()\n",
    "G1.add_nodes_from(Z)\n",
    "edges = itertools.combinations(Z, 2)\n",
    "edges = list(edges)\n",
    "G1.add_edges_from(edges)\n",
    "# order is ord because ord is a keyword in python\n",
    "order = 0\n",
    "old_pi = {}\n",
    "for node in Z:\n",
    "    old_pi[node] = []\n",
    "old_prob = 0\n",
    "u = 15\n",
    "\n",
    "tmp_edges = edges[:]\n",
    "for (a,b) in tmp_edges:\n",
    "    unique = get_AG(G1, a, b)\n",
    "    if len(unique) >= order:\n",
    "        continue\n"
   ]
  },
  {
   "cell_type": "code",
   "execution_count": 102,
   "metadata": {},
   "outputs": [],
   "source": [
    "\n",
    "# return all the set of vertices adjacent to a or b in graph G not including a and b. \n",
    "def get_AG(G, a, b):\n",
    "    neighborsA = list(G.neighbors(a))     \n",
    "    neighborsB = list(G.neighbors(b))\n",
    "    unique = list(set(neighborsA + neighborsB))\n",
    "    if a in unique:\n",
    "        unique.remove(a)\n",
    "    if b in unique:\n",
    "        unique.remove(b)\n",
    "    return unique\n"
   ]
  },
  {
   "cell_type": "code",
   "execution_count": null,
   "metadata": {},
   "outputs": [],
   "source": [
    "def SGS(a, b, ord):\n",
    "    return 0"
   ]
  },
  {
   "cell_type": "code",
   "execution_count": null,
   "metadata": {},
   "outputs": [],
   "source": [
    "def I(a, S, b):\n",
    "    return 0    "
   ]
  }
 ],
 "metadata": {
  "kernelspec": {
   "display_name": "Python 3.9.7 64-bit",
   "language": "python",
   "name": "python3"
  },
  "language_info": {
   "codemirror_mode": {
    "name": "ipython",
    "version": 3
   },
   "file_extension": ".py",
   "mimetype": "text/x-python",
   "name": "python",
   "nbconvert_exporter": "python",
   "pygments_lexer": "ipython3",
   "version": "3.9.7"
  },
  "orig_nbformat": 4,
  "vscode": {
   "interpreter": {
    "hash": "31f2aee4e71d21fbe5cf8b01ff0e069b9275f58929596ceb00d14d90e3e16cd6"
   }
  }
 },
 "nbformat": 4,
 "nbformat_minor": 2
}
